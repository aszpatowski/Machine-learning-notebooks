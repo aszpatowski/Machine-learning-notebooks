{
 "cells": [
  {
   "cell_type": "markdown",
   "metadata": {},
   "source": [
    "CNN analysis for CIFAR data."
   ]
  },
  {
   "cell_type": "code",
   "execution_count": 1,
   "metadata": {},
   "outputs": [],
   "source": [
    "import torch\n",
    "import torchvision\n",
    "import torchvision.transforms as transforms\n",
    "import torch.nn.functional as F\n",
    "import torch.nn as nn\n",
    "import numpy as np\n",
    "import matplotlib.pyplot as plt"
   ]
  },
  {
   "cell_type": "code",
   "execution_count": 2,
   "metadata": {},
   "outputs": [],
   "source": [
    "transform = transforms.Compose(\n",
    "    [transforms.ToTensor(),\n",
    "     transforms.Normalize((0.5, 0.5, 0.5), (0.5, 0.5, 0.5))])"
   ]
  },
  {
   "cell_type": "markdown",
   "metadata": {},
   "source": [
    "![title](https://pytorch.org/tutorials/_images/cifar10.png)"
   ]
  },
  {
   "cell_type": "code",
   "execution_count": 3,
   "metadata": {
    "scrolled": true
   },
   "outputs": [
    {
     "name": "stdout",
     "output_type": "stream",
     "text": [
      "Files already downloaded and verified\n",
      "Files already downloaded and verified\n"
     ]
    }
   ],
   "source": [
    "trainset = torchvision.datasets.CIFAR10(root='./CIFAR', train=True, transform=transform, target_transform=None, download=True)\n",
    "testset = torchvision.datasets.CIFAR10(root='./CIFAR', train=False, transform=transform, target_transform=None, download=True)"
   ]
  },
  {
   "cell_type": "code",
   "execution_count": 4,
   "metadata": {},
   "outputs": [],
   "source": [
    "classes = trainset.classes"
   ]
  },
  {
   "cell_type": "code",
   "execution_count": 5,
   "metadata": {},
   "outputs": [],
   "source": [
    "batch_size = 100"
   ]
  },
  {
   "cell_type": "code",
   "execution_count": 6,
   "metadata": {},
   "outputs": [],
   "source": [
    "trainloader = torch.utils.data.DataLoader(trainset, batch_size=batch_size,\n",
    "                                          shuffle=True, pin_memory=True)\n",
    "testloader = torch.utils.data.DataLoader(testset, batch_size=batch_size,\n",
    "                                         shuffle=False, pin_memory=True)"
   ]
  },
  {
   "cell_type": "code",
   "execution_count": 7,
   "metadata": {},
   "outputs": [],
   "source": [
    "class Net(nn.Module):\n",
    "\n",
    "    def __init__(self):\n",
    "        super(Net, self).__init__()\n",
    "        # 1 input image channel, 6 output channels, 5x5 square convolution\n",
    "        self.conv1 = nn.Conv2d(3, 12, 5)\n",
    "        self.conv2 = nn.Conv2d(12, 16, 5)\n",
    "        # an affine operation: y = Wx + b\n",
    "        self.fc1 = nn.Linear(16 * 5 * 5, 80)  # 5*5 from image dimension\n",
    "        self.fc2 = nn.Linear(80, 40)\n",
    "        self.fc3 = nn.Linear(40, 10)\n",
    "\n",
    "    def forward(self, x):\n",
    "        x = F.max_pool2d(F.relu(self.conv1(x)), (2, 2))\n",
    "        x = F.max_pool2d(F.relu(self.conv2(x)), (2,2))\n",
    "        x = x.view(-1, 16*5*5)\n",
    "        x = F.relu(self.fc1(x))\n",
    "        x = F.relu(self.fc2(x))\n",
    "        x = self.fc3(x)\n",
    "        return x"
   ]
  },
  {
   "cell_type": "code",
   "execution_count": 8,
   "metadata": {},
   "outputs": [],
   "source": [
    "def fit(net, MaxEpoch, step, trainloader, testloader, path, pathhist, device):\n",
    "    net.to(device)\n",
    "    criterion = nn.CrossEntropyLoss(reduction=\"sum\")\n",
    "    optimizer = torch.optim.Adagrad(net.parameters(),lr=0.01, lr_decay=0, weight_decay=0, initial_accumulator_value=0, eps=1e-10)\n",
    "\n",
    "    hist = []\n",
    "    for epoch in range(MaxEpoch + 1):  # loop over the dataset multiple times\n",
    "        error = 0\n",
    "        error_val = 0\n",
    "        correct_train = 0\n",
    "        correct_test = 0\n",
    "        total_tr = 0\n",
    "        total_ts = 0\n",
    "\n",
    "        for i, data in enumerate(trainloader, 0):\n",
    "            inputs, labels = data[0].to(device), data[1].to(device)\n",
    "            optimizer.zero_grad()\n",
    "            outputs = net(inputs)\n",
    "            loss = criterion(outputs, labels)\n",
    "            # calculate accuracy of the predictions for the train set\n",
    "            _, predicted = torch.max(outputs.data, 1)\n",
    "            correct_train += (labels == predicted).sum().item()\n",
    "            total_tr += labels.size(0)\n",
    "\n",
    "            loss.backward()\n",
    "            optimizer.step()\n",
    "\n",
    "            error += loss.item() / total_tr\n",
    "\n",
    "        with torch.no_grad():\n",
    "            for i, data in enumerate(testloader, 0):\n",
    "                inputs, labels = data[0].to(device), data[1].to(device)\n",
    "                outputs = net(inputs)\n",
    "                loss_val = criterion(outputs, labels)\n",
    "\n",
    "                # calculate accuracy of the predictions for the test set\n",
    "                _, predicted = torch.max(outputs.data, 1)\n",
    "                correct_test += (labels == predicted).sum().item()\n",
    "                total_ts += labels.size(0)\n",
    "                error_val += loss_val.item() / total_ts\n",
    "\n",
    "            assert loss_val.requires_grad == False\n",
    "        accuracy_train = correct_train / total_tr\n",
    "        accuracy_test = correct_test / total_ts\n",
    "\n",
    "        if epoch % step == 1:\n",
    "            print(\" epoch = \", epoch + 1,\n",
    "                  f' loss = {error:.2}, accuracy for train set: {accuracy_train:.2f}, accuracy for test set: {accuracy_test:.2f}')\n",
    "\n",
    "        temp = np.array([error, error_val, accuracy_train, accuracy_test])\n",
    "\n",
    "        hist.append(temp)\n",
    "\n",
    "        if epoch % 10 == 0:\n",
    "            torch.save(net.state_dict(), path)\n",
    "            np.save(pathhist, np.array(hist))\n",
    "\n",
    "    torch.save(net.state_dict(), path)\n",
    "    print('Finished Training and saved in ', path)\n",
    "    print('History  saved in ', pathhist)\n",
    "    hist = np.array(hist)\n",
    "    np.save(pathhist, hist)\n",
    "\n",
    "    return hist"
   ]
  },
  {
   "cell_type": "code",
   "execution_count": 9,
   "metadata": {},
   "outputs": [],
   "source": [
    "device = torch.device(\"cuda\" if torch.cuda.is_available() else \"cpu\")\n",
    "net = Net()"
   ]
  },
  {
   "cell_type": "code",
   "execution_count": 10,
   "metadata": {},
   "outputs": [],
   "source": [
    "version = \"0_ADAGRAD\"\n",
    "path = f\"./cifar_net_{version}.pt\"\n",
    "path_h = f\"./cifar_hist_{version}.npy\""
   ]
  },
  {
   "cell_type": "code",
   "execution_count": 11,
   "metadata": {},
   "outputs": [
    {
     "name": "stdout",
     "output_type": "stream",
     "text": [
      " epoch =  2  loss = 9.5, accuracy for train set: 0.50, accuracy for test set: 0.51\n",
      " epoch =  12  loss = 7.3, accuracy for train set: 0.62, accuracy for test set: 0.60\n",
      " epoch =  22  loss = 6.6, accuracy for train set: 0.65, accuracy for test set: 0.63\n",
      " epoch =  32  loss = 6.5, accuracy for train set: 0.67, accuracy for test set: 0.64\n",
      " epoch =  42  loss = 6.3, accuracy for train set: 0.68, accuracy for test set: 0.65\n",
      " epoch =  52  loss = 6.1, accuracy for train set: 0.69, accuracy for test set: 0.65\n",
      " epoch =  62  loss = 5.6, accuracy for train set: 0.70, accuracy for test set: 0.65\n",
      " epoch =  72  loss = 5.5, accuracy for train set: 0.70, accuracy for test set: 0.65\n",
      " epoch =  82  loss = 5.5, accuracy for train set: 0.71, accuracy for test set: 0.66\n",
      " epoch =  92  loss = 5.5, accuracy for train set: 0.71, accuracy for test set: 0.66\n",
      "Finished Training and saved in  ./cifar_net_0_ADAGRAD.pt\n",
      "History  saved in  ./cifar_hist_0_ADAGRAD.npy\n"
     ]
    }
   ],
   "source": [
    "hist=fit(net, 100 ,10, trainloader,testloader,path, path_h ,device)"
   ]
  },
  {
   "cell_type": "code",
   "execution_count": 12,
   "metadata": {},
   "outputs": [],
   "source": [
    "hist_h=np.load(path_h)"
   ]
  },
  {
   "cell_type": "code",
   "execution_count": 13,
   "metadata": {},
   "outputs": [
    {
     "data": {
      "image/png": "[encoded data removed]",
      "text/plain": [
       "<Figure size 432x288 with 1 Axes>"
      ]
     },
     "metadata": {
      "needs_background": "light"
     },
     "output_type": "display_data"
    }
   ],
   "source": [
    "n=len(hist_h)\n",
    "plt.plot(np.arange(n)+1,hist_h[:,0],label=\"training loss\")\n",
    "plt.plot(np.arange(n)+1,hist_h[:,1],label=\"test loss\")\n",
    "plt.plot(np.arange(n)+1,hist_h[:,2],label=\"accuracy for train set\")\n",
    "plt.plot(np.arange(n)+1,hist_h[:,3],label=\"accuracy for test set\")\n",
    "plt.legend()\n",
    "plt.yscale('log')\n",
    "plt.show()"
   ]
  },
  {
   "cell_type": "code",
   "execution_count": null,
   "metadata": {},
   "outputs": [],
   "source": []
  }
 ],
 "metadata": {
  "kernelspec": {
   "display_name": "Python 3",
   "language": "python",
   "name": "python3"
  },
  "language_info": {
   "codemirror_mode": {
    "name": "ipython",
    "version": 3
   },
   "file_extension": ".py",
   "mimetype": "text/x-python",
   "name": "python",
   "nbconvert_exporter": "python",
   "pygments_lexer": "ipython3",
   "version": "3.7.7"
  }
 },
 "nbformat": 4,
 "nbformat_minor": 5
}
