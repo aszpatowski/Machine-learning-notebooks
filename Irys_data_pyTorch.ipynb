{
 "cells": [
  {
   "cell_type": "markdown",
   "metadata": {},
   "source": [
    "Consider the Iris data, use two mulilayer perceptrons, namely, neural networks with one and and two hidden layers, respectively. Here consider PyTorch implementation."
   ]
  },
  {
   "cell_type": "code",
   "execution_count": 81,
   "metadata": {},
   "outputs": [],
   "source": [
    "import torch\n",
    "import torch.nn as nn\n",
    "import torch.nn.functional as F\n",
    "from sklearn import datasets\n",
    "from sklearn.model_selection import train_test_split\n",
    "from sklearn.metrics import accuracy_score"
   ]
  },
  {
   "cell_type": "code",
   "execution_count": 82,
   "metadata": {},
   "outputs": [],
   "source": [
    "class Net1(nn.Module):\n",
    "    def __init__(self):\n",
    "        super(Net1, self).__init__()\n",
    "        self.hidden1 = nn.Linear(4, 5)\n",
    "        self.output = nn.Linear(5, 3)\n",
    "        self.softmax = nn.Softmax(dim=1)\n",
    "    def forward(self, x):\n",
    "        x = self.hidden1(x)\n",
    "        x = F.relu(x)\n",
    "        x = self.output(x)\n",
    "        x = self.softmax(x)\n",
    "\n",
    "        return x"
   ]
  },
  {
   "cell_type": "code",
   "execution_count": 83,
   "metadata": {},
   "outputs": [],
   "source": [
    "class Net2(nn.Module):\n",
    "    def __init__(self):\n",
    "        super(Net2, self).__init__()\n",
    "        self.hidden1 = nn.Linear(4, 5)\n",
    "        self.hidden2 = nn.Linear(5, 10)\n",
    "        self.output = nn.Linear(10, 3)\n",
    "        self.softmax = nn.Softmax(dim=1)\n",
    "    def forward(self, x):\n",
    "        x = self.hidden1(x)\n",
    "        x = F.relu(x)\n",
    "        x = self.hidden2(x)\n",
    "        x = F.relu(x)\n",
    "        x = self.output(x)\n",
    "        x = self.softmax(x)\n",
    "\n",
    "        return x"
   ]
  },
  {
   "cell_type": "code",
   "execution_count": 84,
   "metadata": {},
   "outputs": [],
   "source": [
    "def fit(model, epochs, x, y, iter_report=0):\n",
    "    criterion = nn.CrossEntropyLoss()\n",
    "    optimizer = torch.optim.SGD(model.parameters(), lr=0.01)\n",
    "    for epoch in range(epochs):\n",
    "        optimizer.zero_grad()\n",
    "        y_pred = model(x)\n",
    "        loss = criterion(y_pred, y)\n",
    "        loss.backward()\n",
    "        optimizer.step()\n",
    "\n",
    "        if iter_report != 0 and epoch % iter_report == 0:\n",
    "            print(epoch, loss.item())\n",
    "    return model"
   ]
  },
  {
   "cell_type": "code",
   "execution_count": 85,
   "metadata": {},
   "outputs": [],
   "source": [
    "iris = datasets.load_iris()\n",
    "X = iris.data[:, :]\n",
    "y = iris.target\n",
    "X_train, X_test, y_train, y_test = train_test_split(X, y, test_size=0.5, random_state=1, stratify=y)"
   ]
  },
  {
   "cell_type": "code",
   "execution_count": 86,
   "metadata": {},
   "outputs": [
    {
     "data": {
      "text/plain": [
       "Net1(\n",
       "  (hidden1): Linear(in_features=4, out_features=5, bias=True)\n",
       "  (output): Linear(in_features=5, out_features=3, bias=True)\n",
       "  (softmax): Softmax(dim=1)\n",
       ")"
      ]
     },
     "execution_count": 86,
     "metadata": {},
     "output_type": "execute_result"
    }
   ],
   "source": [
    "net1 = Net1()\n",
    "net1"
   ]
  },
  {
   "cell_type": "code",
   "execution_count": 87,
   "metadata": {},
   "outputs": [
    {
     "data": {
      "text/plain": [
       "Net2(\n",
       "  (hidden1): Linear(in_features=4, out_features=5, bias=True)\n",
       "  (hidden2): Linear(in_features=5, out_features=10, bias=True)\n",
       "  (output): Linear(in_features=10, out_features=3, bias=True)\n",
       "  (softmax): Softmax(dim=1)\n",
       ")"
      ]
     },
     "execution_count": 87,
     "metadata": {},
     "output_type": "execute_result"
    }
   ],
   "source": [
    "net2 = Net2()\n",
    "net2"
   ]
  },
  {
   "cell_type": "code",
   "execution_count": 88,
   "metadata": {},
   "outputs": [],
   "source": [
    "X_train = torch.autograd.Variable(torch.Tensor(X_train).float())\n",
    "X_test = torch.autograd.Variable(torch.Tensor(X_test).float())\n",
    "y_train = torch.autograd.Variable(torch.Tensor(y_train).long())\n",
    "y_test = torch.autograd.Variable(torch.Tensor(y_test).long())"
   ]
  },
  {
   "cell_type": "code",
   "execution_count": 89,
   "metadata": {},
   "outputs": [],
   "source": [
    "net1 = fit(net1, 10000, X_train, y_train)"
   ]
  },
  {
   "cell_type": "code",
   "execution_count": 90,
   "metadata": {},
   "outputs": [
    {
     "data": {
      "text/plain": [
       "tensor([[3.2738e-06, 1.6070e-01, 8.3929e-01],\n",
       "        [3.3316e-07, 8.9565e-02, 9.1043e-01],\n",
       "        [9.1013e-01, 8.7224e-02, 2.6455e-03],\n",
       "        [5.4201e-07, 1.0172e-01, 8.9828e-01],\n",
       "        [9.1013e-01, 8.7224e-02, 2.6455e-03]])"
      ]
     },
     "execution_count": 90,
     "metadata": {},
     "output_type": "execute_result"
    }
   ],
   "source": [
    "predict_out1 = net1(X_test)\n",
    "predict_out1.data[[x for x in range(5)]]\n"
   ]
  },
  {
   "cell_type": "code",
   "execution_count": 64,
   "metadata": {},
   "outputs": [
    {
     "data": {
      "text/plain": [
       "tensor([2, 2, 0, 2, 0, 1, 1, 1, 2, 1, 0, 2, 2, 2, 2, 0, 1, 2, 0, 1, 2, 1, 1, 1,\n",
       "        2, 0, 0, 0, 1, 0, 2, 1, 0, 0, 1, 0, 2, 2, 1, 1, 2, 0, 0, 0, 2, 2, 2, 0,\n",
       "        0, 1, 2, 0, 1, 2, 0, 2, 2, 1, 2, 1, 2, 0, 0, 2, 1, 1, 2, 1, 2, 0, 1, 0,\n",
       "        0, 1, 0])"
      ]
     },
     "execution_count": 64,
     "metadata": {},
     "output_type": "execute_result"
    }
   ],
   "source": [
    "_, predict_y1 = torch.max(predict_out1, 1)\n",
    "predict_y1.data"
   ]
  },
  {
   "cell_type": "code",
   "execution_count": 56,
   "metadata": {},
   "outputs": [
    {
     "name": "stdout",
     "output_type": "stream",
     "text": [
      "Accuracy: 0.9733333333333334\n"
     ]
    }
   ],
   "source": [
    "print(\"Accuracy:\", accuracy_score(y_test.data, predict_y1.data))"
   ]
  },
  {
   "cell_type": "code",
   "execution_count": 57,
   "metadata": {},
   "outputs": [],
   "source": [
    "net2 = fit(net2, 10000,  X_train, y_train)"
   ]
  },
  {
   "cell_type": "code",
   "execution_count": 79,
   "metadata": {},
   "outputs": [
    {
     "data": {
      "text/plain": [
       "tensor([[9.0799e-12, 2.4720e-02, 9.7528e-01],\n",
       "        [5.5127e-14, 4.0082e-03, 9.9599e-01],\n",
       "        [9.8344e-01, 1.6563e-02, 2.1241e-06],\n",
       "        [1.1823e-13, 5.2672e-03, 9.9473e-01],\n",
       "        [9.8344e-01, 1.6563e-02, 2.1241e-06]])"
      ]
     },
     "execution_count": 79,
     "metadata": {},
     "output_type": "execute_result"
    }
   ],
   "source": [
    "predict_out2 = net2(X_test)\n",
    "predict_out2.data[[x for x in range(5)]]\n"
   ]
  },
  {
   "cell_type": "code",
   "execution_count": 59,
   "metadata": {},
   "outputs": [
    {
     "data": {
      "text/plain": [
       "tensor([2, 2, 0, 2, 0, 1, 1, 1, 2, 1, 0, 2, 2, 2, 2, 0, 1, 2, 0, 1, 2, 1, 1, 1,\n",
       "        2, 0, 0, 0, 1, 0, 2, 1, 0, 0, 1, 0, 2, 2, 1, 1, 2, 0, 0, 0, 2, 2, 2, 0,\n",
       "        0, 1, 2, 0, 1, 2, 0, 1, 2, 1, 2, 1, 2, 0, 0, 2, 1, 1, 2, 1, 2, 0, 1, 0,\n",
       "        0, 1, 0])"
      ]
     },
     "execution_count": 59,
     "metadata": {},
     "output_type": "execute_result"
    }
   ],
   "source": [
    "_, predict_y2 = torch.max(predict_out2, 1)\n",
    "predict_y2"
   ]
  },
  {
   "cell_type": "code",
   "execution_count": 60,
   "metadata": {},
   "outputs": [
    {
     "name": "stdout",
     "output_type": "stream",
     "text": [
      "Accuracy: 0.9866666666666667\n"
     ]
    }
   ],
   "source": [
    "print(\"Accuracy:\", accuracy_score(y_test.data, predict_y2.data))"
   ]
  },
  {
   "cell_type": "code",
   "execution_count": null,
   "metadata": {},
   "outputs": [],
   "source": []
  },
  {
   "cell_type": "code",
   "execution_count": null,
   "metadata": {},
   "outputs": [],
   "source": []
  }
 ],
 "metadata": {
  "kernelspec": {
   "display_name": "Python 3",
   "language": "python",
   "name": "python3"
  },
  "language_info": {
   "codemirror_mode": {
    "name": "ipython",
    "version": 3
   },
   "file_extension": ".py",
   "mimetype": "text/x-python",
   "name": "python",
   "nbconvert_exporter": "python",
   "pygments_lexer": "ipython3",
   "version": "3.7.7"
  }
 },
 "nbformat": 4,
 "nbformat_minor": 4
}
